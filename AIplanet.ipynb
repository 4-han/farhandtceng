{
  "nbformat": 4,
  "nbformat_minor": 0,
  "metadata": {
    "colab": {
      "provenance": []
    },
    "kernelspec": {
      "name": "python3",
      "display_name": "Python 3"
    },
    "language_info": {
      "name": "python"
    }
  },
  "cells": [
    {
      "cell_type": "code",
      "execution_count": null,
      "metadata": {
        "id": "diqHvkZ3dIkB"
      },
      "outputs": [],
      "source": [
        "import numpy as np\n",
        "import pandas as pd\n",
        "import matplotlib.pyplot as plt\n",
        "import seaborn as sns\n",
        "\n",
        "from sklearn.ensemble import RandomForestClassifier\n",
        "from sklearn.model_selection import train_test_split, GridSearchCV\n",
        "from sklearn.metrics import f1_score, classification_report, confusion_matrix, ConfusionMatrixDisplay\n",
        "from sklearn.impute import SimpleImputer\n",
        "from sklearn.preprocessing import LabelEncoder\n",
        "from imblearn.over_sampling import SMOTE\n",
        "\n",
        "\n",
        "\n",
        "# 🛠️ Feature engineering\n",
        "\n",
        "\n",
        "# 💡 Define features and target\n",
        "\n",
        "\n",
        "# 🧹 Handle missing values\n",
        "\n",
        "\n",
        "# ✂️ Train-validation split\n",
        "\n",
        "# ⚖️ Handle class imbalance with SMOTE\n",
        "\n",
        "# 🔍 Hyperparameter tuning\n",
        "\n",
        "\n",
        "\n",
        "# 🧪 Validation performance\n",
        "\n",
        "\n",
        "# 📊 Classification report\n",
        "\n",
        "\n",
        "# 📉 Confusion matrix\n",
        "\n",
        "# ⭐ Feature importances\n",
        "\n",
        "# 📤 Test Set Prediction + Submission\n",
        "# <-- Update path if needed\n",
        "\n",
        "# Make sure all required features are present\n",
        "for col in features:\n",
        "    if col not in test_df:\n",
        "        test_df[col] = np.nan\n",
        "\n",
        "# Generate engineered features for test set\n",
        "\n"
      ]
    },
    {
      "cell_type": "code",
      "source": [
        "import numpy as np\n",
        "import pandas as pd\n",
        "import matplotlib.pyplot as plt\n",
        "import seaborn as sns\n",
        "\n",
        "from sklearn.ensemble import RandomForestClassifier\n",
        "from sklearn.model_selection import train_test_split, GridSearchCV\n",
        "from sklearn.metrics import f1_score, classification_report, confusion_matrix, ConfusionMatrixDisplay\n",
        "from sklearn.impute import SimpleImputer\n",
        "from sklearn.preprocessing import LabelEncoder\n",
        "from imblearn.over_sampling import SMOTE"
      ],
      "metadata": {
        "id": "9nemoYjPeI6U"
      },
      "execution_count": 2,
      "outputs": []
    },
    {
      "cell_type": "code",
      "source": [
        "\n",
        "df = pd.read_csv(\"/content/Train_Data.csv\")\n",
        "df['age_group'] = df['age_group'].astype(str).str.strip()\n",
        "df = df[df['age_group'].isin(['Adult', 'Senior'])]\n",
        "df['age_group'] = df['age_group'].map({'Adult': 0, 'Senior': 1}).astype(int)\n"
      ],
      "metadata": {
        "id": "dEvgKlG2dbIj"
      },
      "execution_count": 4,
      "outputs": []
    },
    {
      "cell_type": "code",
      "source": [
        "features = ['RIAGENDR', 'PAQ605', 'BMXBMI', 'LBXGLU', 'DIQ010', 'LBXGLT', 'LBXIN']\n",
        "df['glucose_per_bmi'] = df['LBXGLU'] / (df['BMXBMI'] + 1)\n",
        "df['insulin_per_bmi'] = df['LBXIN'] / (df['BMXBMI'] + 1)\n",
        "df['glucose_tolerance_ratio'] = df['LBXGLU'] / (df['LBXGLT'] + 1)\n",
        "features += ['glucose_per_bmi', 'insulin_per_bmi', 'glucose_tolerance_ratio']"
      ],
      "metadata": {
        "id": "_eaqRfBBfb5L"
      },
      "execution_count": 6,
      "outputs": []
    },
    {
      "cell_type": "code",
      "source": [
        "X = df[features]\n",
        "y = df['age_group']"
      ],
      "metadata": {
        "id": "-6m5HTE8ecod"
      },
      "execution_count": 7,
      "outputs": []
    },
    {
      "cell_type": "code",
      "source": [
        "imputer = SimpleImputer(strategy='median')\n",
        "X_imputed = imputer.fit_transform(X)"
      ],
      "metadata": {
        "id": "l0ZC8pEgecsN"
      },
      "execution_count": 8,
      "outputs": []
    },
    {
      "cell_type": "code",
      "source": [
        "X_train, X_val, y_train, y_val = train_test_split(X_imputed, y, test_size=0.2, random_state=42, stratify=y)\n"
      ],
      "metadata": {
        "id": "bAxXJUP5ecuu"
      },
      "execution_count": 9,
      "outputs": []
    },
    {
      "cell_type": "code",
      "source": [
        "smote = SMOTE(random_state=42)\n",
        "X_resampled, y_resampled = smote.fit_resample(X_train, y_train)\n"
      ],
      "metadata": {
        "id": "SdvhHNvXecyQ"
      },
      "execution_count": 10,
      "outputs": []
    },
    {
      "cell_type": "code",
      "source": [
        "param_grid = {\n",
        "    'n_estimators': [100, 200],\n",
        "    'max_depth': [None, 10, 20],\n",
        "    'min_samples_split': [2, 5],\n",
        "    'class_weight': ['balanced']\n",
        "}"
      ],
      "metadata": {
        "id": "g-P9Mhrgec1E"
      },
      "execution_count": 11,
      "outputs": []
    },
    {
      "cell_type": "code",
      "source": [
        "grid = GridSearchCV(RandomForestClassifier(random_state=42), param_grid, cv=5, scoring='f1')\n",
        "grid.fit(X_resampled, y_resampled)\n",
        "\n",
        "clf = grid.best_estimator_\n"
      ],
      "metadata": {
        "id": "i2rW5WQHec34"
      },
      "execution_count": 12,
      "outputs": []
    },
    {
      "cell_type": "code",
      "source": [
        "y_pred = clf.predict(X_val)\n",
        "f1 = f1_score(y_val, y_pred)\n",
        "print(\"Best GridSearch F1 Score on Resampled Train:\", grid.best_score_)\n",
        "print(\"F1 Score on Validation Set:\", round(f1, 4))"
      ],
      "metadata": {
        "colab": {
          "base_uri": "https://localhost:8080/"
        },
        "id": "SxMOzqz4ec7Z",
        "outputId": "177a97e8-f7ae-431a-c6fd-ee23e68818b5"
      },
      "execution_count": 13,
      "outputs": [
        {
          "output_type": "stream",
          "name": "stdout",
          "text": [
            "Best GridSearch F1 Score on Resampled Train: 0.8994977728854077\n",
            "F1 Score on Validation Set: 0.2645\n"
          ]
        }
      ]
    },
    {
      "cell_type": "code",
      "source": [
        "print(classification_report(y_val, y_pred, target_names=['Adult', 'Senior']))"
      ],
      "metadata": {
        "colab": {
          "base_uri": "https://localhost:8080/"
        },
        "id": "k_vHxU46edBq",
        "outputId": "350d9780-57a0-4aae-ab6d-fcb3e7245b20"
      },
      "execution_count": 14,
      "outputs": [
        {
          "output_type": "stream",
          "name": "stdout",
          "text": [
            "              precision    recall  f1-score   support\n",
            "\n",
            "       Adult       0.86      0.87      0.87       328\n",
            "      Senior       0.28      0.25      0.26        63\n",
            "\n",
            "    accuracy                           0.77       391\n",
            "   macro avg       0.57      0.56      0.56       391\n",
            "weighted avg       0.76      0.77      0.77       391\n",
            "\n"
          ]
        }
      ]
    },
    {
      "cell_type": "code",
      "source": [
        "cm = confusion_matrix(y_val, y_pred)\n",
        "disp = ConfusionMatrixDisplay(confusion_matrix=cm, display_labels=['Adult', 'Senior'])\n",
        "disp.plot(cmap='Blues')\n",
        "plt.show()\n"
      ],
      "metadata": {
        "colab": {
          "base_uri": "https://localhost:8080/",
          "height": 449
        },
        "id": "rlz5TyA2edEs",
        "outputId": "26401914-30f4-46a9-92a8-a96ff3a11fe5"
      },
      "execution_count": 15,
      "outputs": [
        {
          "output_type": "display_data",
          "data": {
            "text/plain": [
              "<Figure size 640x480 with 2 Axes>"
            ],
            "image/png": "[encoded data removed]"
          },
          "metadata": {}
        }
      ]
    },
    {
      "cell_type": "code",
      "source": [
        "importances = clf.feature_importances_\n",
        "feat_imp = pd.DataFrame({'Feature': features, 'Importance': importances}).sort_values(by='Importance', ascending=False)\n",
        "\n",
        "plt.figure(figsize=(10, 5))\n",
        "sns.barplot(x='Importance', y='Feature', data=feat_imp)\n",
        "plt.title('Feature Importances')\n",
        "plt.tight_layout()\n",
        "plt.show()\n"
      ],
      "metadata": {
        "colab": {
          "base_uri": "https://localhost:8080/",
          "height": 348
        },
        "id": "k57VYwuKedHJ",
        "outputId": "9ce62daf-c4e9-4d79-c5c0-c86b6b7cd5c6"
      },
      "execution_count": 16,
      "outputs": [
        {
          "output_type": "display_data",
          "data": {
            "text/plain": [
              "<Figure size 1000x500 with 1 Axes>"
            ],
            "image/png": "[encoded data removed]"
          },
          "metadata": {}
        }
      ]
    },
    {
      "cell_type": "code",
      "source": [
        "test_df = pd.read_csv(\"/content/Test_Data.csv\")"
      ],
      "metadata": {
        "id": "oYncLim7edKg"
      },
      "execution_count": 17,
      "outputs": []
    },
    {
      "cell_type": "code",
      "source": [
        "test_df['glucose_per_bmi'] = test_df['LBXGLU'] / (test_df['BMXBMI'] + 1)\n",
        "test_df['insulin_per_bmi'] = test_df['LBXIN'] / (test_df['BMXBMI'] + 1)\n",
        "test_df['glucose_tolerance_ratio'] = test_df['LBXGLU'] / (test_df['LBXGLT'] + 1)\n",
        "\n",
        "\n",
        "test_X = imputer.transform(test_df[features])\n",
        "test_preds = clf.predict(test_X)\n",
        "\n",
        "submission = pd.DataFrame({\n",
        "    \"SEQN\": test_df[\"SEQN\"],\n",
        "    \"Prediction\": test_preds\n",
        "})\n",
        "submission.to_csv(\"submission.csv\", index=False)\n",
        "print(\"✅ submission.csv created\")"
      ],
      "metadata": {
        "colab": {
          "base_uri": "https://localhost:8080/"
        },
        "id": "nRhT2oIHedNX",
        "outputId": "ba91f4f2-3117-4669-c76c-ae9e0ca95a22"
      },
      "execution_count": 20,
      "outputs": [
        {
          "output_type": "stream",
          "name": "stdout",
          "text": [
            "✅ submission.csv created\n"
          ]
        }
      ]
    },
    {
      "cell_type": "code",
      "source": [],
      "metadata": {
        "id": "jUjJ0xQiedRA"
      },
      "execution_count": null,
      "outputs": []
    },
    {
      "cell_type": "code",
      "source": [],
      "metadata": {
        "id": "VIBR02RcedUD"
      },
      "execution_count": null,
      "outputs": []
    },
    {
      "cell_type": "code",
      "source": [],
      "metadata": {
        "id": "oOH69K4IedWd"
      },
      "execution_count": null,
      "outputs": []
    }
  ]
}