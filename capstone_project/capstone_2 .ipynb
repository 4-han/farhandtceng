{
  "cells": [
    {
      "cell_type": "markdown",
      "metadata": {
        "id": "VTvr4_sti9Am"
      },
      "source": [
        "# Inroduction\n"
      ]
    },
    {
      "cell_type": "markdown",
      "metadata": {
        "id": "53fWFMKb5dB_"
      },
      "source": [
        "[![Run in Colab](https://pathway.com/assets/colab-badge.svg)](https://colab.research.google.com/drive/1psChcNIg-CP9GkrCclcUksR6MpABPw0E?usp=sharing)"
      ]
    },
    {
      "cell_type": "code",
      "execution_count": null,
      "metadata": {
        "collapsed": true,
        "id": "LlwkKnB50IGF"
      },
      "outputs": [],
      "source": [
        "!pip install pathway bokeh --quiet"
      ]
    },
    {
      "cell_type": "code",
      "execution_count": null,
      "metadata": {
        "colab": {
          "base_uri": "https://localhost:8080/",
          "height": 17
        },
        "id": "pHuc1nkJveN3",
        "outputId": "565d4f62-ced6-41c1-c15c-187c1a81591b"
      },
      "outputs": [],
      "source": [
        "import numpy as np\n",
        "import pandas as pd\n",
        "import matplotlib.pyplot as plt\n",
        "import datetime\n",
        "from datetime import datetime\n",
        "import pathway as pw\n",
        "import bokeh.plotting\n",
        "import panel as pn"
      ]
    },
    {
      "cell_type": "markdown",
      "metadata": {
        "id": "gGpZl1FxjFXE"
      },
      "source": [
        "# Step 1: Importing and Preprocessing the Data"
      ]
    },
    {
      "cell_type": "code",
      "execution_count": null,
      "metadata": {
        "colab": {
          "base_uri": "https://localhost:8080/",
          "height": 237
        },
        "id": "4D6geoV9veN3",
        "outputId": "e2b50a95-ef61-4088-cf86-120ad9896263"
      },
      "outputs": [],
      "source": [
        "df = pd.read_csv('/content/dataset.csv', index_col= 0)\n",
        "df.head()\n",
        "\n",
        "# You can find the dataset here which was given with problem statement: https://drive.google.com/file/d/1RqHF3zphAFOtYZgReDJUxEFweOiVAxqP/view?usp=drive_link or in the github repo"
      ]
    },
    {
      "cell_type": "code",
      "execution_count": null,
      "metadata": {
        "colab": {
          "base_uri": "https://localhost:8080/"
        },
        "id": "97cbEzVfOLJ3",
        "outputId": "3a87f93c-30b9-4b8a-9bf3-d7e446ef81e1"
      },
      "outputs": [],
      "source": [
        "df.shape"
      ]
    },
    {
      "cell_type": "markdown",
      "metadata": {
        "id": "wZcIV96Yor-5"
      },
      "source": [
        "## Eventhough we have 11 columns we will only be using Timestamp(Data & Time combined together), LocationID (which is combined with Latitude and Longitude), Occupancy and Capacity for the base model"
      ]
    },
    {
      "cell_type": "code",
      "execution_count": null,
      "metadata": {
        "id": "IO1BQsFLdQ3S"
      },
      "outputs": [],
      "source": [
        "mapping = {'low': 0, 'average': 0.5, 'high': 1}\n",
        "\n",
        "# Apply the mapping\n",
        "df['TrafficConditionNearby'] = df['TrafficConditionNearby'].map(mapping)"
      ]
    },
    {
      "cell_type": "code",
      "execution_count": null,
      "metadata": {
        "id": "b8YnfbiqeCz2"
      },
      "outputs": [],
      "source": [
        "maps = {'car': 0.75 , 'bike': 0.5 , 'truck': 1, 'cycle': 0.25}\n",
        "df['VehicleType'] = df['VehicleType'].map(maps)"
      ]
    },
    {
      "cell_type": "markdown",
      "metadata": {
        "id": "670x4FJZOH2b"
      },
      "source": [
        "## we are mapping weights based on area they occupy (automobiles) and how much the traffic is and they are normalised before hand to narrow down normalisation in later streaming phase"
      ]
    },
    {
      "cell_type": "code",
      "execution_count": null,
      "metadata": {
        "id": "QBrvlQTjveN4"
      },
      "outputs": [],
      "source": [
        "# Combine the 'LastUpdatedDate' and 'LastUpdatedTime' columns into a single datetime column\n",
        "df['Timestamp'] = pd.to_datetime(df['LastUpdatedDate'] + ' ' + df['LastUpdatedTime'],\n",
        "                                  format='%d-%m-%Y %H:%M:%S')\n",
        "# Combine the 'Latitude' and 'Longitude' columns into a single datetime column\n",
        "df['LocationID'] = df['Latitude'].astype(str) + ',' + df['Longitude'].astype(str)\n",
        "# Sort the DataFrame by the new 'Timestamp' column and reset the index\n",
        "df = df.sort_values('Timestamp').reset_index(drop=True)"
      ]
    },
    {
      "cell_type": "code",
      "execution_count": null,
      "metadata": {
        "id": "UbG3nBeU5JXx"
      },
      "outputs": [],
      "source": [
        "\n",
        "LOCATIONS = df.LocationID.unique() #will be useful when we will have to view price fluctuation in different locations in bokeh"
      ]
    },
    {
      "cell_type": "code",
      "execution_count": null,
      "metadata": {
        "id": "c52UkGGpveN5"
      },
      "outputs": [],
      "source": [
        "# Save the selected columns to a CSV file for streaming or downstream processing\n",
        "df[[\"Timestamp\", \"Occupancy\", \"Capacity\", \"LocationID\", \"TrafficConditionNearby\" ,\"QueueLength\" , \"IsSpecialDay\" , \"VehicleType\"\t]].to_csv(\"parking_stream.csv\", index=False)\n"
      ]
    },
    {
      "cell_type": "code",
      "execution_count": null,
      "metadata": {
        "id": "a4LxMh4xziMv"
      },
      "outputs": [],
      "source": [
        "# Load the data as a simulated stream using Pathway's replay_csv function\n",
        "# This replays the CSV data at a controlled input rate to mimic real-time streaming\n",
        "# input_rate=1000 means approximately 1000 rows per second will be ingested into the stream.\n",
        "\n",
        "data = pw.demo.replay_csv(\"parking_stream.csv\", schema=ParkingSchema, input_rate=1000)"
      ]
    },
    {
      "cell_type": "markdown",
      "metadata": {
        "id": "d-TBTYyx_BpL"
      },
      "source": [
        "## STEP 1 : DEFINING THE SCHEMA"
      ]
    },
    {
      "cell_type": "code",
      "execution_count": null,
      "metadata": {
        "id": "ouwFXqRv8KZY"
      },
      "outputs": [],
      "source": [
        "import pathway as pw\n",
        "import datetime\n",
        "\n",
        "# defining the schema of our upcoming data stream\n",
        "# Note : we have taken all values in float instead of int to not get into confusion of arthematic operations with decimals\n",
        "class ParkingSchema(pw.Schema):\n",
        "    Timestamp: str\n",
        "    Occupancy: float\n",
        "    Capacity: float\n",
        "    LocationID: str\n",
        "    TrafficConditionNearby: float\n",
        "    QueueLength: float\n",
        "    IsSpecialDay: float\n",
        "    VehicleType: float\n",
        "\n",
        "data = pw.demo.replay_csv(\n",
        "    \"parking_stream.csv\",\n",
        "    schema=ParkingSchema,\n",
        "    input_rate=1000\n",
        ")\n",
        "\n",
        "# we are taking data from the csv with the input rate of 1000 hence we would be taking into account around 1000 rows in the single tubling window\n",
        "fmt = \"%Y-%m-%d %H:%M:%S\"\n",
        "\n",
        "\n",
        "data_with_time = data.with_columns(\n",
        "    t = data.Timestamp.dt.strptime(fmt),\n",
        "    occ_ratio = pw.this.Occupancy / pw.this.Capacity,\n",
        "    traffic = pw.this.TrafficConditionNearby,\n",
        "    vehicle_weight = pw.this.VehicleType\n",
        ")\n",
        "\n",
        "# we have tranformed our incoming data with new time that would act as timestamp and other three parameters would be useful in building pricing function for model 2"
      ]
    },
    {
      "cell_type": "code",
      "execution_count": null,
      "metadata": {
        "id": "ni_6dI065NoS"
      },
      "outputs": [],
      "source": []
    },
    {
      "cell_type": "markdown",
      "metadata": {
        "id": "wG5ELrwQ8Z0f"
      },
      "source": [
        "Note: sometimes code snippet was throwing random error if multiple pathway imports were not present in every cell"
      ]
    },
    {
      "cell_type": "code",
      "execution_count": null,
      "metadata": {
        "id": "1JOB0R4V-0aK"
      },
      "outputs": [],
      "source": []
    },
    {
      "cell_type": "markdown",
      "metadata": {
        "id": "TIr3AcW5-05S"
      },
      "source": [
        "## STEP 2 : PRICING FUNCTION"
      ]
    },
    {
      "cell_type": "code",
      "execution_count": null,
      "metadata": {
        "id": "7hKQzzYuTlgY"
      },
      "outputs": [],
      "source": [
        "import pathway as pw\n",
        "# This is a user-defined function (UDF) in Pathway.\n",
        "# It computes a dynamic parking price based on multiple real-time factors:\n",
        "# - avg_occ_ratio: average occupancy ratio of parking slots\n",
        "# - avg_queue_length: average queue length at entry points\n",
        "# - avg_traffic: average nearby traffic congestion (reduces price)\n",
        "# - is_special_day: binary flag for holidays or special events\n",
        "# - avg_vehicle_weight: average vehicle weight (proxy for vehicle type)\n",
        "#\n",
        "# The function applies a weighted linear combination of these factors,\n",
        "# scaled by constants (ALPHA, BETA, GAMMA, DELTA, EPSILON, LAMBDA).\n",
        "# The computed raw price is then clamped between 5 and 16 to ensure\n",
        "# it stays within reasonable operational limits.\n",
        "#\n",
        "# Using @pw.udf allows this function to run on each row of the Pathway table.\n",
        "# It computes a dynamic parking price based on a demand model that adjusts the base price.\n",
        "#\n",
        "# Demand is calculated as:\n",
        "#   Demand = α · (Occupancy / Capacity)\n",
        "#            + β · QueueLength\n",
        "#            − γ · Traffic\n",
        "#            + δ · IsSpecialDay\n",
        "#            + ε · VehicleTypeWeight\n",
        "#\n",
        "# The price at time t is then computed as:\n",
        "#   Pricet = BasePrice · (1 + λ · NormalizedDemand)\n",
        "#\n",
        "# The demand value is inherently normalized by design factors (ratios and scaling)\n",
        "# to ensure price variations remain smooth and within operational bounds.\n",
        "# Finally, the price is clamped to stay within a minimum (5) and maximum (16).\n",
        "#\n",
        "\n",
        "\n",
        "@pw.udf\n",
        "def compute_clamped_price(\n",
        "    avg_occ_ratio: float,\n",
        "    avg_queue_length: float,\n",
        "    avg_traffic: float,\n",
        "    is_special_day: float,\n",
        "    avg_vehicle_weight: float\n",
        ") -> float:\n",
        "    # Same constants\n",
        "    BASE_PRICE = 10\n",
        "    ALPHA = 0.2\n",
        "    BETA = 0.3\n",
        "    GAMMA = 2\n",
        "    DELTA = 0.8\n",
        "    EPSILON = 1\n",
        "    LAMBDA = 0.9\n",
        "\n",
        "    raw = BASE_PRICE * (\n",
        "        1 + LAMBDA * (\n",
        "            ALPHA * avg_occ_ratio\n",
        "            + BETA * avg_queue_length\n",
        "            - GAMMA * avg_traffic\n",
        "            + DELTA * is_special_day\n",
        "            + EPSILON * avg_vehicle_weight\n",
        "        )\n",
        "    )\n",
        "    return min(max(raw, 5), 16)\n"
      ]
    },
    {
      "cell_type": "markdown",
      "metadata": {
        "id": "IzLZ2k8y_JsS"
      },
      "source": [
        "## STEP 3 : WINDOWING AND REDUCING OPERATIONS"
      ]
    },
    {
      "cell_type": "code",
      "execution_count": null,
      "metadata": {
        "id": "TPcZBnw8SgK5"
      },
      "outputs": [],
      "source": [
        "# This block creates daily windows for each LocationID,\n",
        "# computes aggregated features like average occupancy ratio,\n",
        "# average queue length, maximum traffic, special day flag, and vehicle weight.\n",
        "# These daily aggregates are then passed to the pricing UDF,\n",
        "# which calculates a clamped daily price based on the demand model.\n",
        "# This ensures that pricing adjusts daily for each location\n",
        "# based on actual usage, queueing, traffic, and special conditions.\n",
        "\n",
        "daily_price = (\n",
        "    data_with_time.windowby(\n",
        "        pw.this.t,\n",
        "        instance = pw.this.LocationID,\n",
        "        window = pw.temporal.tumbling(datetime.timedelta(days=1)),\n",
        "        behavior = pw.temporal.exactly_once_behavior()\n",
        "    )\n",
        "    .reduce(\n",
        "        t = pw.this._pw_window_end,\n",
        "        LocationID = pw.this._pw_instance,\n",
        "        window_start = pw.reducers.min(pw.this.t),\n",
        "        avg_occ_ratio = pw.reducers.avg(pw.this.occ_ratio),\n",
        "        avg_queue_length = pw.reducers.avg(pw.this.QueueLength),\n",
        "        avg_traffic = pw.reducers.max(pw.this.traffic),\n",
        "        avg_vehicle_weight = pw.reducers.avg(pw.this.vehicle_weight),\n",
        "        is_special_day = pw.reducers.max(pw.this.IsSpecialDay)\n",
        "    )\n",
        "    .with_columns(\n",
        "        price = compute_clamped_price(\n",
        "            pw.this.avg_occ_ratio,\n",
        "            pw.this.avg_queue_length,\n",
        "            pw.this.avg_traffic,\n",
        "            pw.this.is_special_day,\n",
        "            pw.this.avg_vehicle_weight\n",
        "        )\n",
        "    )\n",
        ")"
      ]
    },
    {
      "cell_type": "markdown",
      "metadata": {
        "id": "yaxnftRH_uma"
      },
      "source": [
        "## STEP 4 : LIVE DATA VISUALIZATION IN BOKEH"
      ]
    },
    {
      "cell_type": "code",
      "execution_count": null,
      "metadata": {
        "colab": {
          "base_uri": "https://localhost:8080/",
          "height": 127
        },
        "id": "VpSp2TrAimdK",
        "outputId": "1da0d1da-6a7c-4e6b-f484-bb80af397e7f"
      },
      "outputs": [],
      "source": [
        "import panel as pn\n",
        "import bokeh.plotting\n",
        "from bokeh.palettes import Category20\n",
        "from bokeh.transform import factor_cmap\n",
        "\n",
        "pn.extension()\n",
        "\n",
        "\n",
        "# Initialize Panel for building interactive visualizations in notebooks or apps.\n",
        "# This block defines a custom Bokeh plot function `price_plotter`:\n",
        "# - It creates a scatter plot of daily parking prices over time.\n",
        "# - Each point represents the price for a specific LocationID on a specific day.\n",
        "# - Different LocationIDs are color-coded using a factor color map for easy comparison.\n",
        "# - The plot uses Bokeh tools like pan, zoom, box select, reset, and hover for interactivity.\n",
        "# - A legend shows which color corresponds to which LocationID.\n",
        "# - The visualization helps track how prices vary across different locations and days,\n",
        "#   making it easy to see trends, outliers, or effects of special days.\n",
        "#\n",
        "# Finally, `pn.Column(viz).servable()` makes the plot interactive and ready to be served\n",
        "# inside a notebook, Panel app, or deployed as a web dashboard.\n",
        "\n",
        "\n",
        "def price_plotter(source):\n",
        "    fig = bokeh.plotting.figure(\n",
        "        height=500,\n",
        "        width=800,\n",
        "        title=\"Pathway: Daily Parking Price by Location\",\n",
        "        x_axis_type=\"datetime\",\n",
        "        tools=\"pan,wheel_zoom,box_zoom,reset,hover\"\n",
        "    )\n",
        "#add a filter for diff locations\n",
        "    color_map = factor_cmap(\n",
        "        \"LocationID\",\n",
        "        palette=Category20[20] ,\n",
        "        factors=LOCATIONS #array\n",
        "    )\n",
        "#scatter t vs price plot\n",
        "    fig.scatter(\n",
        "        \"t\", \"price\",\n",
        "        source=source,\n",
        "        size=6,\n",
        "        color=color_map,\n",
        "        legend_field=\"LocationID\"\n",
        "    )\n",
        "\n",
        "    fig.xaxis.axis_label = \"Timestamp\"\n",
        "    fig.yaxis.axis_label = \"Price\"\n",
        "    fig.legend.title = \"LocationID\"\n",
        "    fig.legend.location = \"top_left\"\n",
        "\n",
        "    return fig\n",
        "\n",
        "#viz = daily_price.plot(price_plotter, sorting_col=\"t\")  #UNCOMMENT THIS THING BEFORE YOU RUN THIS CELL\n",
        "\n",
        "#pn.Column(viz).servable()  #UNCOMMENT THIS THING BEFORE YOU RUN THIS CEL\n"
      ]
    },
    {
      "cell_type": "code",
      "execution_count": null,
      "metadata": {
        "colab": {
          "base_uri": "https://localhost:8080/",
          "height": 291,
          "referenced_widgets": [
            "ae578a98079a4e288d20ed032451b05e",
            "d43e649b106f485fb3a4715ccf775614"
          ]
        },
        "collapsed": true,
        "id": "TpMa3ds3hYrR",
        "outputId": "1bdcc0ff-fef1-446a-d07a-235aa8e8fccc"
      },
      "outputs": [],
      "source": [
        "pw.run()"
      ]
    },
    {
      "cell_type": "code",
      "execution_count": null,
      "metadata": {
        "id": "JccSebVNwR88"
      },
      "outputs": [],
      "source": []
    }
  ],
  "metadata": {
    "colab": {
      "provenance": []
    },
    "kaggle": {
      "accelerator": "none",
      "dataSources": [
        {
          "datasetId": 7749157,
          "sourceId": 12294858,
          "sourceType": "datasetVersion"
        }
      ],
      "dockerImageVersionId": 31040,
      "isGpuEnabled": false,
      "isInternetEnabled": true,
      "language": "python",
      "sourceType": "notebook"
    },
    "kernelspec": {
      "display_name": "Python 3",
      "language": "python",
      "name": "python3"
    },
    "language_info": {
      "codemirror_mode": {
        "name": "ipython",
        "version": 3
      },
      "file_extension": ".py",
      "mimetype": "text/x-python",
      "name": "python",
      "nbconvert_exporter": "python",
      "pygments_lexer": "ipython3",
      "version": "3.11.11"
    },
    "widgets": {
      "application/vnd.jupyter.widget-state+json": {
        "ae578a98079a4e288d20ed032451b05e": {
          "model_module": "@jupyter-widgets/output",
          "model_module_version": "1.0.0",
          "model_name": "OutputModel",
          "state": {
            "_dom_classes": [],
            "_model_module": "@jupyter-widgets/output",
            "_model_module_version": "1.0.0",
            "_model_name": "OutputModel",
            "_view_count": null,
            "_view_module": "@jupyter-widgets/output",
            "_view_module_version": "1.0.0",
            "_view_name": "OutputView",
            "layout": "IPY_MODEL_d43e649b106f485fb3a4715ccf775614",
            "msg_id": "",
            "outputs": [
              {
                "data": {
                  "text/html": "<pre style=\"white-space:pre;overflow-x:auto;line-height:normal;font-family:Menlo,'DejaVu Sans Mono',consolas,'Courier New',monospace\">                                            PATHWAY PROGRESS DASHBOARD                                             \n                                                                                                                   \n   <span style=\"font-weight: bold\">             </span> <span style=\"font-weight: bold\">        no. </span> <span style=\"font-weight: bold\">             </span> <span style=\"font-weight: bold\">            </span>  <span style=\"font-weight: bold\">          </span> <span style=\"font-weight: bold\">  latency </span> <span style=\"font-weight: bold\">          </span> <span style=\"font-weight: bold\">          </span> <span style=\"font-weight: bold\">          </span>   \n   <span style=\"font-weight: bold\">             </span> <span style=\"font-weight: bold\">   messages </span> <span style=\"font-weight: bold\">             </span> <span style=\"font-weight: bold\">            </span>  <span style=\"font-weight: bold\">          </span> <span style=\"font-weight: bold\">  to wall </span> <span style=\"font-weight: bold\">   lag to </span> <span style=\"font-weight: bold\">          </span> <span style=\"font-weight: bold\">          </span>   \n   <span style=\"font-weight: bold\">             </span> <span style=\"font-weight: bold\">     in the </span> <span style=\"font-weight: bold\">             </span> <span style=\"font-weight: bold\">            </span>  <span style=\"font-weight: bold\">          </span> <span style=\"font-weight: bold\">    clock </span> <span style=\"font-weight: bold\">    input </span> <span style=\"font-weight: bold\">    total </span> <span style=\"font-weight: bold\">  current </span>   \n   <span style=\"font-weight: bold\">             </span> <span style=\"font-weight: bold\">       last </span> <span style=\"font-weight: bold\"> in the last </span> <span style=\"font-weight: bold\">      since </span>  <span style=\"font-weight: bold\"> operator </span> <span style=\"font-weight: bold\">     [ms] </span> <span style=\"font-weight: bold\">     [ms] </span> <span style=\"font-weight: bold\">     rows </span> <span style=\"font-weight: bold\">     rows </span>   \n   <span style=\"font-weight: bold\"> connector   </span> <span style=\"font-weight: bold\">  minibatch </span> <span style=\"font-weight: bold\">      minute </span> <span style=\"font-weight: bold\">      start </span>  ──────────────────────────────────────────────────────   \n   ─────────────────────────────────────────────────────   input      finished                                     \n    PythonRead…     finished         18368        18368    output        34425       None                          \n    PythonRead…     finished         18368        18368                                                            \n    PythonRead…     finished         18368        18368  <span style=\"color: #7f7f7f; text-decoration-color: #7f7f7f; font-style: italic\">   Above you can see the latency of input and output    </span>  \n    PythonRead…     finished         18368        18368  <span style=\"color: #7f7f7f; text-decoration-color: #7f7f7f; font-style: italic\">  operators. The latency is measured as the difference  </span>  \n    PythonRead…     finished         18368        18368  <span style=\"color: #7f7f7f; text-decoration-color: #7f7f7f; font-style: italic\"> between the time when the operator processed the data  </span>  \n    PythonRead…     finished         18368        18368  <span style=\"color: #7f7f7f; text-decoration-color: #7f7f7f; font-style: italic\">      and the time when pathway acquired the data.      </span>  \n    PythonRead…     finished         18368        18368                                                            \n    PythonRead…     finished         18368        18368                                                            \n    PythonRead…     finished         18368        18368                                                            \n    PythonRead…     finished         18064        18064                                                            \n    PythonRead…     finished         18043        18043                                                            \n    PythonRead…     finished         17899        17899                                                            \n    PythonRead…     finished         18276        18276                                                            \n    PythonRead…     finished         17972        17972                                                            \n    PythonRead…     finished         17845        17845                                                            \n                                                                                                                   \n                                                                                                                   \n                                                                                                                   \n                                                                                                                   \n                                                                                                                   \n                                                                                                                   \n                                                                                                                   \n                                                                                                                   \n                                                                                                                   \n                                                                                                                   \n                                                                                                                   \n                                                                                                                   \n                                                                                                                   \n                                                                                                                   \n                                                                                                                   \n                                                                                                                   \n                                                                                                                   \n                                                                                                                   \n                                                                                                                   \n                                                                                                                   \n                                                                                                                   \n                                                                                                                   \n                                                                                                                   \n                                                                                                                   \n                                                                                                                   \n                                                                                                                   \n                                                                                                                   \n                                                       LOGS                                                        \n  <span style=\"color: #7fbfbf; text-decoration-color: #7fbfbf\">[07/05/25 15:59:47] </span><span style=\"color: #808000; text-decoration-color: #808000\">WARNING </span> PythonReader: Closing the data source                                               \n  <span style=\"color: #7fbfbf; text-decoration-color: #7fbfbf\">[07/05/25 15:59:48] </span><span style=\"color: #808000; text-decoration-color: #808000\">WARNING </span> PythonReader: Closing the data source                                               \n  <span style=\"color: #7fbfbf; text-decoration-color: #7fbfbf\">                    </span><span style=\"color: #808000; text-decoration-color: #808000\">WARNING </span> PythonReader: Closing the data source                                               \n  <span style=\"color: #7fbfbf; text-decoration-color: #7fbfbf\">[07/05/25 15:59:50] </span><span style=\"color: #808000; text-decoration-color: #808000\">WARNING </span> PythonReader: Closing the data source                                               \n  <span style=\"color: #7fbfbf; text-decoration-color: #7fbfbf\">[07/05/25 15:59:51] </span><span style=\"color: #808000; text-decoration-color: #808000\">WARNING </span> PythonReader: Closing the data source                                               \n  <span style=\"color: #7fbfbf; text-decoration-color: #7fbfbf\">[07/05/25 15:59:52] </span><span style=\"color: #808000; text-decoration-color: #808000\">WARNING </span> PythonReader: Closing the data source                                               \n  <span style=\"color: #7fbfbf; text-decoration-color: #7fbfbf\">[07/05/25 15:59:53] </span><span style=\"color: #808000; text-decoration-color: #808000\">WARNING </span> PythonReader: Closing the data source                                               \n  <span style=\"color: #7fbfbf; text-decoration-color: #7fbfbf\">[07/05/25 15:59:54] </span><span style=\"color: #808000; text-decoration-color: #808000\">WARNING </span> PythonReader: Closing the data source                                               \n  <span style=\"color: #7fbfbf; text-decoration-color: #7fbfbf\">                    </span><span style=\"color: #808000; text-decoration-color: #808000\">WARNING </span> PythonReader: Closing the data source                                               \n  <span style=\"color: #7fbfbf; text-decoration-color: #7fbfbf\">[07/05/25 15:59:55] </span><span style=\"color: #808000; text-decoration-color: #808000\">WARNING </span> PythonReader: Closing the data source                                               \n  <span style=\"color: #7fbfbf; text-decoration-color: #7fbfbf\">[07/05/25 15:59:56] </span><span style=\"color: #808000; text-decoration-color: #808000\">WARNING </span> PythonReader: Closing the data source                                               \n  <span style=\"color: #7fbfbf; text-decoration-color: #7fbfbf\">                    </span><span style=\"color: #808000; text-decoration-color: #808000\">WARNING </span> PythonReader: Closing the data source                                               \n  <span style=\"color: #7fbfbf; text-decoration-color: #7fbfbf\">[07/05/25 15:59:59] </span><span style=\"color: #808000; text-decoration-color: #808000\">WARNING </span> PythonReader: Closing the data source                                               \n  <span style=\"color: #7fbfbf; text-decoration-color: #7fbfbf\">                    </span><span style=\"color: #808000; text-decoration-color: #808000\">WARNING </span> PythonReader: Closing the data source                                               \n  <span style=\"color: #7fbfbf; text-decoration-color: #7fbfbf\">                    </span><span style=\"color: #808000; text-decoration-color: #808000\">WARNING </span> PythonReader: Closing the data source                                               \n                                                                                                                   \n                                                                                                                   \n                                                                                                                   \n                                                                                                                   \n                                                                                                                   \n                                                                                                                   \n                                                                                                                   \n                                                                                                                   \n                                                                                                                   \n                                                                                                                   \n                                                                                                                   \n                                                                                                                   \n                                                                                                                   \n                                                                                                                   \n                                                                                                                   \n                                                                                                                   \n                                                                                                                   \n                                                                                                                   \n                                                                                                                   \n                                                                                                                   \n                                                                                                                   \n                                                                                                                   \n                                                                                                                   \n                                                                                                                   \n                                                                                                                   \n                                                                                                                   \n                                                                                                                   \n                                                                                                                   \n                                                                                                                   \n                                                                                                                   \n                                                                                                                   \n                                                                                                                   \n                                                                                                                   \n                                                                                                                   \n</pre>\n",
                  "text/plain": "                                            PATHWAY PROGRESS DASHBOARD                                             \n                                                                                                                   \n   \u001b[1m             \u001b[0m \u001b[1m \u001b[0m\u001b[1m       no.\u001b[0m\u001b[1m \u001b[0m \u001b[1m             \u001b[0m \u001b[1m            \u001b[0m  \u001b[1m          \u001b[0m \u001b[1m \u001b[0m\u001b[1m latency\u001b[0m\u001b[1m \u001b[0m \u001b[1m          \u001b[0m \u001b[1m          \u001b[0m \u001b[1m          \u001b[0m   \n   \u001b[1m             \u001b[0m \u001b[1m \u001b[0m\u001b[1m  messages\u001b[0m\u001b[1m \u001b[0m \u001b[1m             \u001b[0m \u001b[1m            \u001b[0m  \u001b[1m          \u001b[0m \u001b[1m \u001b[0m\u001b[1m to wall\u001b[0m\u001b[1m \u001b[0m \u001b[1m \u001b[0m\u001b[1m  lag to\u001b[0m\u001b[1m \u001b[0m \u001b[1m          \u001b[0m \u001b[1m          \u001b[0m   \n   \u001b[1m             \u001b[0m \u001b[1m \u001b[0m\u001b[1m    in the\u001b[0m\u001b[1m \u001b[0m \u001b[1m             \u001b[0m \u001b[1m            \u001b[0m  \u001b[1m          \u001b[0m \u001b[1m \u001b[0m\u001b[1m   clock\u001b[0m\u001b[1m \u001b[0m \u001b[1m \u001b[0m\u001b[1m   input\u001b[0m\u001b[1m \u001b[0m \u001b[1m \u001b[0m\u001b[1m   total\u001b[0m\u001b[1m \u001b[0m \u001b[1m \u001b[0m\u001b[1m current\u001b[0m\u001b[1m \u001b[0m   \n   \u001b[1m             \u001b[0m \u001b[1m \u001b[0m\u001b[1m      last\u001b[0m\u001b[1m \u001b[0m \u001b[1m \u001b[0m\u001b[1min the last\u001b[0m\u001b[1m \u001b[0m \u001b[1m \u001b[0m\u001b[1m     since\u001b[0m\u001b[1m \u001b[0m  \u001b[1m \u001b[0m\u001b[1moperator\u001b[0m\u001b[1m \u001b[0m \u001b[1m \u001b[0m\u001b[1m    [ms]\u001b[0m\u001b[1m \u001b[0m \u001b[1m \u001b[0m\u001b[1m    [ms]\u001b[0m\u001b[1m \u001b[0m \u001b[1m \u001b[0m\u001b[1m    rows\u001b[0m\u001b[1m \u001b[0m \u001b[1m \u001b[0m\u001b[1m    rows\u001b[0m\u001b[1m \u001b[0m   \n   \u001b[1m \u001b[0m\u001b[1mconnector  \u001b[0m\u001b[1m \u001b[0m \u001b[1m \u001b[0m\u001b[1m minibatch\u001b[0m\u001b[1m \u001b[0m \u001b[1m \u001b[0m\u001b[1m     minute\u001b[0m\u001b[1m \u001b[0m \u001b[1m \u001b[0m\u001b[1m     start\u001b[0m\u001b[1m \u001b[0m  ──────────────────────────────────────────────────────   \n   ─────────────────────────────────────────────────────   input      finished                                     \n    PythonRead…     finished         18368        18368    output        34425       None                          \n    PythonRead…     finished         18368        18368                                                            \n    PythonRead…     finished         18368        18368  \u001b[2;3m   Above you can see the latency of input and output    \u001b[0m  \n    PythonRead…     finished         18368        18368  \u001b[2;3m  operators. The latency is measured as the difference  \u001b[0m  \n    PythonRead…     finished         18368        18368  \u001b[2;3m between the time when the operator processed the data  \u001b[0m  \n    PythonRead…     finished         18368        18368  \u001b[2;3m      and the time when pathway acquired the data.      \u001b[0m  \n    PythonRead…     finished         18368        18368                                                            \n    PythonRead…     finished         18368        18368                                                            \n    PythonRead…     finished         18368        18368                                                            \n    PythonRead…     finished         18064        18064                                                            \n    PythonRead…     finished         18043        18043                                                            \n    PythonRead…     finished         17899        17899                                                            \n    PythonRead…     finished         18276        18276                                                            \n    PythonRead…     finished         17972        17972                                                            \n    PythonRead…     finished         17845        17845                                                            \n                                                                                                                   \n                                                                                                                   \n                                                                                                                   \n                                                                                                                   \n                                                                                                                   \n                                                                                                                   \n                                                                                                                   \n                                                                                                                   \n                                                                                                                   \n                                                                                                                   \n                                                                                                                   \n                                                                                                                   \n                                                                                                                   \n                                                                                                                   \n                                                                                                                   \n                                                                                                                   \n                                                                                                                   \n                                                                                                                   \n                                                                                                                   \n                                                                                                                   \n                                                                                                                   \n                                                                                                                   \n                                                                                                                   \n                                                                                                                   \n                                                                                                                   \n                                                                                                                   \n                                                                                                                   \n                                                       LOGS                                                        \n  \u001b[2;36m[07/05/25 15:59:47]\u001b[0m\u001b[2;36m \u001b[0m\u001b[33mWARNING \u001b[0m PythonReader: Closing the data source                                               \n  \u001b[2;36m[07/05/25 15:59:48]\u001b[0m\u001b[2;36m \u001b[0m\u001b[33mWARNING \u001b[0m PythonReader: Closing the data source                                               \n  \u001b[2;36m                   \u001b[0m\u001b[2;36m \u001b[0m\u001b[33mWARNING \u001b[0m PythonReader: Closing the data source                                               \n  \u001b[2;36m[07/05/25 15:59:50]\u001b[0m\u001b[2;36m \u001b[0m\u001b[33mWARNING \u001b[0m PythonReader: Closing the data source                                               \n  \u001b[2;36m[07/05/25 15:59:51]\u001b[0m\u001b[2;36m \u001b[0m\u001b[33mWARNING \u001b[0m PythonReader: Closing the data source                                               \n  \u001b[2;36m[07/05/25 15:59:52]\u001b[0m\u001b[2;36m \u001b[0m\u001b[33mWARNING \u001b[0m PythonReader: Closing the data source                                               \n  \u001b[2;36m[07/05/25 15:59:53]\u001b[0m\u001b[2;36m \u001b[0m\u001b[33mWARNING \u001b[0m PythonReader: Closing the data source                                               \n  \u001b[2;36m[07/05/25 15:59:54]\u001b[0m\u001b[2;36m \u001b[0m\u001b[33mWARNING \u001b[0m PythonReader: Closing the data source                                               \n  \u001b[2;36m                   \u001b[0m\u001b[2;36m \u001b[0m\u001b[33mWARNING \u001b[0m PythonReader: Closing the data source                                               \n  \u001b[2;36m[07/05/25 15:59:55]\u001b[0m\u001b[2;36m \u001b[0m\u001b[33mWARNING \u001b[0m PythonReader: Closing the data source                                               \n  \u001b[2;36m[07/05/25 15:59:56]\u001b[0m\u001b[2;36m \u001b[0m\u001b[33mWARNING \u001b[0m PythonReader: Closing the data source                                               \n  \u001b[2;36m                   \u001b[0m\u001b[2;36m \u001b[0m\u001b[33mWARNING \u001b[0m PythonReader: Closing the data source                                               \n  \u001b[2;36m[07/05/25 15:59:59]\u001b[0m\u001b[2;36m \u001b[0m\u001b[33mWARNING \u001b[0m PythonReader: Closing the data source                                               \n  \u001b[2;36m                   \u001b[0m\u001b[2;36m \u001b[0m\u001b[33mWARNING \u001b[0m PythonReader: Closing the data source                                               \n  \u001b[2;36m                   \u001b[0m\u001b[2;36m \u001b[0m\u001b[33mWARNING \u001b[0m PythonReader: Closing the data source                                               \n                                                                                                                   \n                                                                                                                   \n                                                                                                                   \n                                                                                                                   \n                                                                                                                   \n                                                                                                                   \n                                                                                                                   \n                                                                                                                   \n                                                                                                                   \n                                                                                                                   \n                                                                                                                   \n                                                                                                                   \n                                                                                                                   \n                                                                                                                   \n                                                                                                                   \n                                                                                                                   \n                                                                                                                   \n                                                                                                                   \n                                                                                                                   \n                                                                                                                   \n                                                                                                                   \n                                                                                                                   \n                                                                                                                   \n                                                                                                                   \n                                                                                                                   \n                                                                                                                   \n                                                                                                                   \n                                                                                                                   \n                                                                                                                   \n                                                                                                                   \n                                                                                                                   \n                                                                                                                   \n                                                                                                                   \n                                                                                                                   \n"
                },
                "metadata": {},
                "output_type": "display_data"
              }
            ],
            "tabbable": null,
            "tooltip": null
          }
        },
        "d43e649b106f485fb3a4715ccf775614": {
          "model_module": "@jupyter-widgets/base",
          "model_module_version": "2.0.0",
          "model_name": "LayoutModel",
          "state": {
            "_model_module": "@jupyter-widgets/base",
            "_model_module_version": "2.0.0",
            "_model_name": "LayoutModel",
            "_view_count": null,
            "_view_module": "@jupyter-widgets/base",
            "_view_module_version": "2.0.0",
            "_view_name": "LayoutView",
            "align_content": null,
            "align_items": null,
            "align_self": null,
            "border_bottom": null,
            "border_left": null,
            "border_right": null,
            "border_top": null,
            "bottom": null,
            "display": null,
            "flex": null,
            "flex_flow": null,
            "grid_area": null,
            "grid_auto_columns": null,
            "grid_auto_flow": null,
            "grid_auto_rows": null,
            "grid_column": null,
            "grid_gap": null,
            "grid_row": null,
            "grid_template_areas": null,
            "grid_template_columns": null,
            "grid_template_rows": null,
            "height": null,
            "justify_content": null,
            "justify_items": null,
            "left": null,
            "margin": null,
            "max_height": null,
            "max_width": null,
            "min_height": null,
            "min_width": null,
            "object_fit": null,
            "object_position": null,
            "order": null,
            "overflow": null,
            "padding": null,
            "right": null,
            "top": null,
            "visibility": null,
            "width": null
          }
        }
      }
    }
  },
  "nbformat": 4,
  "nbformat_minor": 0
}
